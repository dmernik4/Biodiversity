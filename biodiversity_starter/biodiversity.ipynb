{
 "cells": [
  {
   "cell_type": "markdown",
   "metadata": {},
   "source": [
    "# Biodiversity in national parks"
   ]
  },
  {
   "cell_type": "markdown",
   "metadata": {},
   "source": [
    "## Introduction"
   ]
  },
  {
   "cell_type": "markdown",
   "metadata": {},
   "source": [
    "The data is provided by the Codecademy.com community and it's part of the Data Science Career Path program.  \n",
    "Data is divided into two separate .csv files - observations and species.  \n",
    "  \n",
    "The main goal is:  \n",
    "- to find some corelation between some species and their conservation status  \n",
    "- which species are more likely to be endangered  \n",
    "- which park have the most species  \n",
    "- which species are more prevalent through parks  \n"
   ]
  },
  {
   "cell_type": "code",
   "execution_count": 1,
   "metadata": {},
   "outputs": [],
   "source": [
    "import pandas as pd\n",
    "import numpy as np\n",
    "\n",
    "from matplotlib import pyplot as plt\n",
    "from matplotlib import colormaps\n",
    "import seaborn as sns"
   ]
  },
  {
   "cell_type": "markdown",
   "metadata": {},
   "source": [
    "## 1. Importing and inspecting the data"
   ]
  },
  {
   "cell_type": "markdown",
   "metadata": {},
   "source": [
    "### First we'll import and examen the observations.csv file."
   ]
  },
  {
   "cell_type": "code",
   "execution_count": 2,
   "metadata": {},
   "outputs": [],
   "source": [
    "observations = pd.read_csv(\"observations.csv\")"
   ]
  },
  {
   "cell_type": "code",
   "execution_count": 3,
   "metadata": {},
   "outputs": [
    {
     "data": {
      "text/html": [
       "<div>\n",
       "<style scoped>\n",
       "    .dataframe tbody tr th:only-of-type {\n",
       "        vertical-align: middle;\n",
       "    }\n",
       "\n",
       "    .dataframe tbody tr th {\n",
       "        vertical-align: top;\n",
       "    }\n",
       "\n",
       "    .dataframe thead th {\n",
       "        text-align: right;\n",
       "    }\n",
       "</style>\n",
       "<table border=\"1\" class=\"dataframe\">\n",
       "  <thead>\n",
       "    <tr style=\"text-align: right;\">\n",
       "      <th></th>\n",
       "      <th>scientific_name</th>\n",
       "      <th>park_name</th>\n",
       "      <th>observations</th>\n",
       "    </tr>\n",
       "  </thead>\n",
       "  <tbody>\n",
       "    <tr>\n",
       "      <th>0</th>\n",
       "      <td>Vicia benghalensis</td>\n",
       "      <td>Great Smoky Mountains National Park</td>\n",
       "      <td>68</td>\n",
       "    </tr>\n",
       "    <tr>\n",
       "      <th>1</th>\n",
       "      <td>Neovison vison</td>\n",
       "      <td>Great Smoky Mountains National Park</td>\n",
       "      <td>77</td>\n",
       "    </tr>\n",
       "    <tr>\n",
       "      <th>2</th>\n",
       "      <td>Prunus subcordata</td>\n",
       "      <td>Yosemite National Park</td>\n",
       "      <td>138</td>\n",
       "    </tr>\n",
       "    <tr>\n",
       "      <th>3</th>\n",
       "      <td>Abutilon theophrasti</td>\n",
       "      <td>Bryce National Park</td>\n",
       "      <td>84</td>\n",
       "    </tr>\n",
       "    <tr>\n",
       "      <th>4</th>\n",
       "      <td>Githopsis specularioides</td>\n",
       "      <td>Great Smoky Mountains National Park</td>\n",
       "      <td>85</td>\n",
       "    </tr>\n",
       "  </tbody>\n",
       "</table>\n",
       "</div>"
      ],
      "text/plain": [
       "            scientific_name                            park_name  observations\n",
       "0        Vicia benghalensis  Great Smoky Mountains National Park            68\n",
       "1            Neovison vison  Great Smoky Mountains National Park            77\n",
       "2         Prunus subcordata               Yosemite National Park           138\n",
       "3      Abutilon theophrasti                  Bryce National Park            84\n",
       "4  Githopsis specularioides  Great Smoky Mountains National Park            85"
      ]
     },
     "execution_count": 3,
     "metadata": {},
     "output_type": "execute_result"
    }
   ],
   "source": [
    "observations.head()"
   ]
  },
  {
   "cell_type": "code",
   "execution_count": 4,
   "metadata": {},
   "outputs": [
    {
     "data": {
      "text/html": [
       "<div>\n",
       "<style scoped>\n",
       "    .dataframe tbody tr th:only-of-type {\n",
       "        vertical-align: middle;\n",
       "    }\n",
       "\n",
       "    .dataframe tbody tr th {\n",
       "        vertical-align: top;\n",
       "    }\n",
       "\n",
       "    .dataframe thead th {\n",
       "        text-align: right;\n",
       "    }\n",
       "</style>\n",
       "<table border=\"1\" class=\"dataframe\">\n",
       "  <thead>\n",
       "    <tr style=\"text-align: right;\">\n",
       "      <th></th>\n",
       "      <th>observations</th>\n",
       "    </tr>\n",
       "  </thead>\n",
       "  <tbody>\n",
       "    <tr>\n",
       "      <th>count</th>\n",
       "      <td>23296.000000</td>\n",
       "    </tr>\n",
       "    <tr>\n",
       "      <th>mean</th>\n",
       "      <td>142.287904</td>\n",
       "    </tr>\n",
       "    <tr>\n",
       "      <th>std</th>\n",
       "      <td>69.890532</td>\n",
       "    </tr>\n",
       "    <tr>\n",
       "      <th>min</th>\n",
       "      <td>9.000000</td>\n",
       "    </tr>\n",
       "    <tr>\n",
       "      <th>25%</th>\n",
       "      <td>86.000000</td>\n",
       "    </tr>\n",
       "    <tr>\n",
       "      <th>50%</th>\n",
       "      <td>124.000000</td>\n",
       "    </tr>\n",
       "    <tr>\n",
       "      <th>75%</th>\n",
       "      <td>195.000000</td>\n",
       "    </tr>\n",
       "    <tr>\n",
       "      <th>max</th>\n",
       "      <td>321.000000</td>\n",
       "    </tr>\n",
       "  </tbody>\n",
       "</table>\n",
       "</div>"
      ],
      "text/plain": [
       "       observations\n",
       "count  23296.000000\n",
       "mean     142.287904\n",
       "std       69.890532\n",
       "min        9.000000\n",
       "25%       86.000000\n",
       "50%      124.000000\n",
       "75%      195.000000\n",
       "max      321.000000"
      ]
     },
     "execution_count": 4,
     "metadata": {},
     "output_type": "execute_result"
    }
   ],
   "source": [
    "observations.describe()"
   ]
  },
  {
   "cell_type": "code",
   "execution_count": 5,
   "metadata": {},
   "outputs": [
    {
     "name": "stdout",
     "output_type": "stream",
     "text": [
      "<class 'pandas.core.frame.DataFrame'>\n",
      "RangeIndex: 23296 entries, 0 to 23295\n",
      "Data columns (total 3 columns):\n",
      " #   Column           Non-Null Count  Dtype \n",
      "---  ------           --------------  ----- \n",
      " 0   scientific_name  23296 non-null  object\n",
      " 1   park_name        23296 non-null  object\n",
      " 2   observations     23296 non-null  int64 \n",
      "dtypes: int64(1), object(2)\n",
      "memory usage: 546.1+ KB\n"
     ]
    }
   ],
   "source": [
    "observations.info()"
   ]
  },
  {
   "cell_type": "code",
   "execution_count": 6,
   "metadata": {},
   "outputs": [
    {
     "data": {
      "text/plain": [
       "scientific_name    5541\n",
       "park_name             4\n",
       "observations        304\n",
       "dtype: int64"
      ]
     },
     "execution_count": 6,
     "metadata": {},
     "output_type": "execute_result"
    }
   ],
   "source": [
    "observations.nunique()"
   ]
  },
  {
   "cell_type": "markdown",
   "metadata": {},
   "source": [
    "### Now let's check the species.csv file"
   ]
  },
  {
   "cell_type": "code",
   "execution_count": 7,
   "metadata": {},
   "outputs": [],
   "source": [
    "species = pd.read_csv(\"species_info.csv\")"
   ]
  },
  {
   "cell_type": "code",
   "execution_count": 8,
   "metadata": {},
   "outputs": [
    {
     "data": {
      "text/html": [
       "<div>\n",
       "<style scoped>\n",
       "    .dataframe tbody tr th:only-of-type {\n",
       "        vertical-align: middle;\n",
       "    }\n",
       "\n",
       "    .dataframe tbody tr th {\n",
       "        vertical-align: top;\n",
       "    }\n",
       "\n",
       "    .dataframe thead th {\n",
       "        text-align: right;\n",
       "    }\n",
       "</style>\n",
       "<table border=\"1\" class=\"dataframe\">\n",
       "  <thead>\n",
       "    <tr style=\"text-align: right;\">\n",
       "      <th></th>\n",
       "      <th>category</th>\n",
       "      <th>scientific_name</th>\n",
       "      <th>common_names</th>\n",
       "      <th>conservation_status</th>\n",
       "    </tr>\n",
       "  </thead>\n",
       "  <tbody>\n",
       "    <tr>\n",
       "      <th>0</th>\n",
       "      <td>Mammal</td>\n",
       "      <td>Clethrionomys gapperi gapperi</td>\n",
       "      <td>Gapper's Red-Backed Vole</td>\n",
       "      <td>NaN</td>\n",
       "    </tr>\n",
       "    <tr>\n",
       "      <th>1</th>\n",
       "      <td>Mammal</td>\n",
       "      <td>Bos bison</td>\n",
       "      <td>American Bison, Bison</td>\n",
       "      <td>NaN</td>\n",
       "    </tr>\n",
       "    <tr>\n",
       "      <th>2</th>\n",
       "      <td>Mammal</td>\n",
       "      <td>Bos taurus</td>\n",
       "      <td>Aurochs, Aurochs, Domestic Cattle (Feral), Dom...</td>\n",
       "      <td>NaN</td>\n",
       "    </tr>\n",
       "    <tr>\n",
       "      <th>3</th>\n",
       "      <td>Mammal</td>\n",
       "      <td>Ovis aries</td>\n",
       "      <td>Domestic Sheep, Mouflon, Red Sheep, Sheep (Feral)</td>\n",
       "      <td>NaN</td>\n",
       "    </tr>\n",
       "    <tr>\n",
       "      <th>4</th>\n",
       "      <td>Mammal</td>\n",
       "      <td>Cervus elaphus</td>\n",
       "      <td>Wapiti Or Elk</td>\n",
       "      <td>NaN</td>\n",
       "    </tr>\n",
       "  </tbody>\n",
       "</table>\n",
       "</div>"
      ],
      "text/plain": [
       "  category                scientific_name  \\\n",
       "0   Mammal  Clethrionomys gapperi gapperi   \n",
       "1   Mammal                      Bos bison   \n",
       "2   Mammal                     Bos taurus   \n",
       "3   Mammal                     Ovis aries   \n",
       "4   Mammal                 Cervus elaphus   \n",
       "\n",
       "                                        common_names conservation_status  \n",
       "0                           Gapper's Red-Backed Vole                 NaN  \n",
       "1                              American Bison, Bison                 NaN  \n",
       "2  Aurochs, Aurochs, Domestic Cattle (Feral), Dom...                 NaN  \n",
       "3  Domestic Sheep, Mouflon, Red Sheep, Sheep (Feral)                 NaN  \n",
       "4                                      Wapiti Or Elk                 NaN  "
      ]
     },
     "execution_count": 8,
     "metadata": {},
     "output_type": "execute_result"
    }
   ],
   "source": [
    "species.head()"
   ]
  },
  {
   "cell_type": "code",
   "execution_count": 9,
   "metadata": {},
   "outputs": [
    {
     "data": {
      "text/html": [
       "<div>\n",
       "<style scoped>\n",
       "    .dataframe tbody tr th:only-of-type {\n",
       "        vertical-align: middle;\n",
       "    }\n",
       "\n",
       "    .dataframe tbody tr th {\n",
       "        vertical-align: top;\n",
       "    }\n",
       "\n",
       "    .dataframe thead th {\n",
       "        text-align: right;\n",
       "    }\n",
       "</style>\n",
       "<table border=\"1\" class=\"dataframe\">\n",
       "  <thead>\n",
       "    <tr style=\"text-align: right;\">\n",
       "      <th></th>\n",
       "      <th>category</th>\n",
       "      <th>scientific_name</th>\n",
       "      <th>common_names</th>\n",
       "      <th>conservation_status</th>\n",
       "    </tr>\n",
       "  </thead>\n",
       "  <tbody>\n",
       "    <tr>\n",
       "      <th>count</th>\n",
       "      <td>5824</td>\n",
       "      <td>5824</td>\n",
       "      <td>5824</td>\n",
       "      <td>191</td>\n",
       "    </tr>\n",
       "    <tr>\n",
       "      <th>unique</th>\n",
       "      <td>7</td>\n",
       "      <td>5541</td>\n",
       "      <td>5504</td>\n",
       "      <td>4</td>\n",
       "    </tr>\n",
       "    <tr>\n",
       "      <th>top</th>\n",
       "      <td>Vascular Plant</td>\n",
       "      <td>Castor canadensis</td>\n",
       "      <td>Brachythecium Moss</td>\n",
       "      <td>Species of Concern</td>\n",
       "    </tr>\n",
       "    <tr>\n",
       "      <th>freq</th>\n",
       "      <td>4470</td>\n",
       "      <td>3</td>\n",
       "      <td>7</td>\n",
       "      <td>161</td>\n",
       "    </tr>\n",
       "  </tbody>\n",
       "</table>\n",
       "</div>"
      ],
      "text/plain": [
       "              category    scientific_name        common_names  \\\n",
       "count             5824               5824                5824   \n",
       "unique               7               5541                5504   \n",
       "top     Vascular Plant  Castor canadensis  Brachythecium Moss   \n",
       "freq              4470                  3                   7   \n",
       "\n",
       "       conservation_status  \n",
       "count                  191  \n",
       "unique                   4  \n",
       "top     Species of Concern  \n",
       "freq                   161  "
      ]
     },
     "execution_count": 9,
     "metadata": {},
     "output_type": "execute_result"
    }
   ],
   "source": [
    "species.describe()"
   ]
  },
  {
   "cell_type": "code",
   "execution_count": 10,
   "metadata": {},
   "outputs": [
    {
     "name": "stdout",
     "output_type": "stream",
     "text": [
      "<class 'pandas.core.frame.DataFrame'>\n",
      "RangeIndex: 5824 entries, 0 to 5823\n",
      "Data columns (total 4 columns):\n",
      " #   Column               Non-Null Count  Dtype \n",
      "---  ------               --------------  ----- \n",
      " 0   category             5824 non-null   object\n",
      " 1   scientific_name      5824 non-null   object\n",
      " 2   common_names         5824 non-null   object\n",
      " 3   conservation_status  191 non-null    object\n",
      "dtypes: object(4)\n",
      "memory usage: 182.1+ KB\n"
     ]
    }
   ],
   "source": [
    "species.info()"
   ]
  },
  {
   "cell_type": "code",
   "execution_count": 11,
   "metadata": {},
   "outputs": [
    {
     "name": "stdout",
     "output_type": "stream",
     "text": [
      "[nan 'Species of Concern' 'Endangered' 'Threatened' 'In Recovery']\n"
     ]
    }
   ],
   "source": [
    "print(species[\"conservation_status\"].unique())"
   ]
  },
  {
   "cell_type": "markdown",
   "metadata": {},
   "source": [
    "We can see that there were 23296 observations in 4 different parks.  \n",
    "We have 7 different categories of species (mammals, plants, birds, ...) and 5541 different types of species (scientific names).  \n",
    "There is a lot of \"missing\" data in the conservation status. There are 4 categories of conservation status (Species of Concern, Endangered, Threatened, and In Recovery). So we can assume that the \"missing\" data is not missing, they are just not endangered or threatened."
   ]
  },
  {
   "cell_type": "markdown",
   "metadata": {},
   "source": [
    "## 2. Clenaing the data"
   ]
  },
  {
   "cell_type": "markdown",
   "metadata": {},
   "source": [
    "If we look at the data, it seems pretty clean.  \n",
    "There is just a few changes we could do and check if there are any duplicates."
   ]
  },
  {
   "cell_type": "code",
   "execution_count": 12,
   "metadata": {},
   "outputs": [
    {
     "data": {
      "text/html": [
       "<div>\n",
       "<style scoped>\n",
       "    .dataframe tbody tr th:only-of-type {\n",
       "        vertical-align: middle;\n",
       "    }\n",
       "\n",
       "    .dataframe tbody tr th {\n",
       "        vertical-align: top;\n",
       "    }\n",
       "\n",
       "    .dataframe thead th {\n",
       "        text-align: right;\n",
       "    }\n",
       "</style>\n",
       "<table border=\"1\" class=\"dataframe\">\n",
       "  <thead>\n",
       "    <tr style=\"text-align: right;\">\n",
       "      <th></th>\n",
       "      <th>scientific_name</th>\n",
       "      <th>park_name</th>\n",
       "      <th>observations</th>\n",
       "    </tr>\n",
       "  </thead>\n",
       "  <tbody>\n",
       "    <tr>\n",
       "      <th>0</th>\n",
       "      <td>Vicia benghalensis</td>\n",
       "      <td>Great Smoky Mountains</td>\n",
       "      <td>68</td>\n",
       "    </tr>\n",
       "    <tr>\n",
       "      <th>1</th>\n",
       "      <td>Neovison vison</td>\n",
       "      <td>Great Smoky Mountains</td>\n",
       "      <td>77</td>\n",
       "    </tr>\n",
       "    <tr>\n",
       "      <th>2</th>\n",
       "      <td>Prunus subcordata</td>\n",
       "      <td>Yosemite</td>\n",
       "      <td>138</td>\n",
       "    </tr>\n",
       "    <tr>\n",
       "      <th>3</th>\n",
       "      <td>Abutilon theophrasti</td>\n",
       "      <td>Bryce</td>\n",
       "      <td>84</td>\n",
       "    </tr>\n",
       "    <tr>\n",
       "      <th>4</th>\n",
       "      <td>Githopsis specularioides</td>\n",
       "      <td>Great Smoky Mountains</td>\n",
       "      <td>85</td>\n",
       "    </tr>\n",
       "    <tr>\n",
       "      <th>...</th>\n",
       "      <td>...</td>\n",
       "      <td>...</td>\n",
       "      <td>...</td>\n",
       "    </tr>\n",
       "    <tr>\n",
       "      <th>23291</th>\n",
       "      <td>Croton monanthogynus</td>\n",
       "      <td>Yosemite</td>\n",
       "      <td>173</td>\n",
       "    </tr>\n",
       "    <tr>\n",
       "      <th>23292</th>\n",
       "      <td>Otospermophilus beecheyi</td>\n",
       "      <td>Bryce</td>\n",
       "      <td>130</td>\n",
       "    </tr>\n",
       "    <tr>\n",
       "      <th>23293</th>\n",
       "      <td>Heterotheca sessiliflora ssp. echioides</td>\n",
       "      <td>Bryce</td>\n",
       "      <td>140</td>\n",
       "    </tr>\n",
       "    <tr>\n",
       "      <th>23294</th>\n",
       "      <td>Dicranella rufescens</td>\n",
       "      <td>Yosemite</td>\n",
       "      <td>171</td>\n",
       "    </tr>\n",
       "    <tr>\n",
       "      <th>23295</th>\n",
       "      <td>Cucurbita pepo</td>\n",
       "      <td>Yosemite</td>\n",
       "      <td>164</td>\n",
       "    </tr>\n",
       "  </tbody>\n",
       "</table>\n",
       "<p>23296 rows × 3 columns</p>\n",
       "</div>"
      ],
      "text/plain": [
       "                               scientific_name              park_name  \\\n",
       "0                           Vicia benghalensis  Great Smoky Mountains   \n",
       "1                               Neovison vison  Great Smoky Mountains   \n",
       "2                            Prunus subcordata               Yosemite   \n",
       "3                         Abutilon theophrasti                  Bryce   \n",
       "4                     Githopsis specularioides  Great Smoky Mountains   \n",
       "...                                        ...                    ...   \n",
       "23291                     Croton monanthogynus               Yosemite   \n",
       "23292                 Otospermophilus beecheyi                  Bryce   \n",
       "23293  Heterotheca sessiliflora ssp. echioides                  Bryce   \n",
       "23294                     Dicranella rufescens               Yosemite   \n",
       "23295                           Cucurbita pepo               Yosemite   \n",
       "\n",
       "       observations  \n",
       "0                68  \n",
       "1                77  \n",
       "2               138  \n",
       "3                84  \n",
       "4                85  \n",
       "...             ...  \n",
       "23291           173  \n",
       "23292           130  \n",
       "23293           140  \n",
       "23294           171  \n",
       "23295           164  \n",
       "\n",
       "[23296 rows x 3 columns]"
      ]
     },
     "execution_count": 12,
     "metadata": {},
     "output_type": "execute_result"
    }
   ],
   "source": [
    "# In the observation data we can get rid of the \"National Park\" postscript from the park names in park_names column.\n",
    "observations[\"park_name\"] = observations[\"park_name\"].str.replace(\" National Park\", \"\")\n",
    "observations"
   ]
  },
  {
   "cell_type": "code",
   "execution_count": 13,
   "metadata": {},
   "outputs": [
    {
     "data": {
      "text/html": [
       "<div>\n",
       "<style scoped>\n",
       "    .dataframe tbody tr th:only-of-type {\n",
       "        vertical-align: middle;\n",
       "    }\n",
       "\n",
       "    .dataframe tbody tr th {\n",
       "        vertical-align: top;\n",
       "    }\n",
       "\n",
       "    .dataframe thead th {\n",
       "        text-align: right;\n",
       "    }\n",
       "</style>\n",
       "<table border=\"1\" class=\"dataframe\">\n",
       "  <thead>\n",
       "    <tr style=\"text-align: right;\">\n",
       "      <th></th>\n",
       "      <th>category</th>\n",
       "      <th>scientific_name</th>\n",
       "      <th>common_names</th>\n",
       "      <th>conservation_status</th>\n",
       "    </tr>\n",
       "  </thead>\n",
       "  <tbody>\n",
       "    <tr>\n",
       "      <th>0</th>\n",
       "      <td>Mammal</td>\n",
       "      <td>Clethrionomys gapperi gapperi</td>\n",
       "      <td>Gapper's Red-Backed Vole</td>\n",
       "      <td>Not in danger</td>\n",
       "    </tr>\n",
       "    <tr>\n",
       "      <th>1</th>\n",
       "      <td>Mammal</td>\n",
       "      <td>Bos bison</td>\n",
       "      <td>American Bison, Bison</td>\n",
       "      <td>Not in danger</td>\n",
       "    </tr>\n",
       "    <tr>\n",
       "      <th>2</th>\n",
       "      <td>Mammal</td>\n",
       "      <td>Bos taurus</td>\n",
       "      <td>Aurochs, Aurochs, Domestic Cattle (Feral), Dom...</td>\n",
       "      <td>Not in danger</td>\n",
       "    </tr>\n",
       "    <tr>\n",
       "      <th>3</th>\n",
       "      <td>Mammal</td>\n",
       "      <td>Ovis aries</td>\n",
       "      <td>Domestic Sheep, Mouflon, Red Sheep, Sheep (Feral)</td>\n",
       "      <td>Not in danger</td>\n",
       "    </tr>\n",
       "    <tr>\n",
       "      <th>4</th>\n",
       "      <td>Mammal</td>\n",
       "      <td>Cervus elaphus</td>\n",
       "      <td>Wapiti Or Elk</td>\n",
       "      <td>Not in danger</td>\n",
       "    </tr>\n",
       "    <tr>\n",
       "      <th>...</th>\n",
       "      <td>...</td>\n",
       "      <td>...</td>\n",
       "      <td>...</td>\n",
       "      <td>...</td>\n",
       "    </tr>\n",
       "    <tr>\n",
       "      <th>5819</th>\n",
       "      <td>Vascular Plant</td>\n",
       "      <td>Solanum parishii</td>\n",
       "      <td>Parish's Nightshade</td>\n",
       "      <td>Not in danger</td>\n",
       "    </tr>\n",
       "    <tr>\n",
       "      <th>5820</th>\n",
       "      <td>Vascular Plant</td>\n",
       "      <td>Solanum xanti</td>\n",
       "      <td>Chaparral Nightshade, Purple Nightshade</td>\n",
       "      <td>Not in danger</td>\n",
       "    </tr>\n",
       "    <tr>\n",
       "      <th>5821</th>\n",
       "      <td>Vascular Plant</td>\n",
       "      <td>Parthenocissus vitacea</td>\n",
       "      <td>Thicket Creeper, Virginia Creeper, Woodbine</td>\n",
       "      <td>Not in danger</td>\n",
       "    </tr>\n",
       "    <tr>\n",
       "      <th>5822</th>\n",
       "      <td>Vascular Plant</td>\n",
       "      <td>Vitis californica</td>\n",
       "      <td>California Grape, California Wild Grape</td>\n",
       "      <td>Not in danger</td>\n",
       "    </tr>\n",
       "    <tr>\n",
       "      <th>5823</th>\n",
       "      <td>Vascular Plant</td>\n",
       "      <td>Tribulus terrestris</td>\n",
       "      <td>Bullhead, Caltrop, Goathead, Mexican Sandbur, ...</td>\n",
       "      <td>Not in danger</td>\n",
       "    </tr>\n",
       "  </tbody>\n",
       "</table>\n",
       "<p>5824 rows × 4 columns</p>\n",
       "</div>"
      ],
      "text/plain": [
       "            category                scientific_name  \\\n",
       "0             Mammal  Clethrionomys gapperi gapperi   \n",
       "1             Mammal                      Bos bison   \n",
       "2             Mammal                     Bos taurus   \n",
       "3             Mammal                     Ovis aries   \n",
       "4             Mammal                 Cervus elaphus   \n",
       "...              ...                            ...   \n",
       "5819  Vascular Plant               Solanum parishii   \n",
       "5820  Vascular Plant                  Solanum xanti   \n",
       "5821  Vascular Plant         Parthenocissus vitacea   \n",
       "5822  Vascular Plant              Vitis californica   \n",
       "5823  Vascular Plant            Tribulus terrestris   \n",
       "\n",
       "                                           common_names conservation_status  \n",
       "0                              Gapper's Red-Backed Vole       Not in danger  \n",
       "1                                 American Bison, Bison       Not in danger  \n",
       "2     Aurochs, Aurochs, Domestic Cattle (Feral), Dom...       Not in danger  \n",
       "3     Domestic Sheep, Mouflon, Red Sheep, Sheep (Feral)       Not in danger  \n",
       "4                                         Wapiti Or Elk       Not in danger  \n",
       "...                                                 ...                 ...  \n",
       "5819                                Parish's Nightshade       Not in danger  \n",
       "5820            Chaparral Nightshade, Purple Nightshade       Not in danger  \n",
       "5821        Thicket Creeper, Virginia Creeper, Woodbine       Not in danger  \n",
       "5822            California Grape, California Wild Grape       Not in danger  \n",
       "5823  Bullhead, Caltrop, Goathead, Mexican Sandbur, ...       Not in danger  \n",
       "\n",
       "[5824 rows x 4 columns]"
      ]
     },
     "execution_count": 13,
     "metadata": {},
     "output_type": "execute_result"
    }
   ],
   "source": [
    "# We saw that there is no \"missing data\" in the species data - conservation_status, so we can fill (or replace) NaN with \"Not in danger\".\n",
    "species = species.fillna(value={\"conservation_status\": \"Not in danger\"})\n",
    "species"
   ]
  },
  {
   "cell_type": "code",
   "execution_count": 14,
   "metadata": {},
   "outputs": [],
   "source": [
    "# Because the common names of the species can vary form country to country and there could be some errors, we could drop the column \"common_names\" and just use the scientific (Latin) names\n",
    "species = species.drop(\"common_names\", axis=1)"
   ]
  },
  {
   "cell_type": "code",
   "execution_count": 15,
   "metadata": {},
   "outputs": [
    {
     "name": "stdout",
     "output_type": "stream",
     "text": [
      "Observation data duplicates:\n"
     ]
    },
    {
     "data": {
      "text/plain": [
       "False    23281\n",
       "True        15\n",
       "Name: count, dtype: int64"
      ]
     },
     "execution_count": 15,
     "metadata": {},
     "output_type": "execute_result"
    }
   ],
   "source": [
    "# Now lets check if there are any duplicates our data\n",
    "print(\"Observation data duplicates:\")\n",
    "observations.duplicated().value_counts()"
   ]
  },
  {
   "cell_type": "code",
   "execution_count": 16,
   "metadata": {},
   "outputs": [
    {
     "name": "stdout",
     "output_type": "stream",
     "text": [
      "Species data duplicates:\n"
     ]
    },
    {
     "data": {
      "text/plain": [
       "False    5543\n",
       "True      281\n",
       "Name: count, dtype: int64"
      ]
     },
     "execution_count": 16,
     "metadata": {},
     "output_type": "execute_result"
    }
   ],
   "source": [
    "print(\"Species data duplicates:\")\n",
    "species.duplicated().value_counts()"
   ]
  },
  {
   "cell_type": "markdown",
   "metadata": {},
   "source": [
    "We see that we have some duplicates.  \n",
    "There are 15 duplicates in the observation data, and 281 duplicates in the species data.  \n",
    "We can drop the duplicates and then we could merge the observation data and species data."
   ]
  },
  {
   "cell_type": "code",
   "execution_count": 17,
   "metadata": {},
   "outputs": [],
   "source": [
    "# First we need to drop the duplicates\n",
    "obs_no_dupl = observations.drop_duplicates()\n",
    "spec_no_dupl = species.drop_duplicates()"
   ]
  },
  {
   "cell_type": "code",
   "execution_count": 18,
   "metadata": {},
   "outputs": [
    {
     "data": {
      "text/html": [
       "<div>\n",
       "<style scoped>\n",
       "    .dataframe tbody tr th:only-of-type {\n",
       "        vertical-align: middle;\n",
       "    }\n",
       "\n",
       "    .dataframe tbody tr th {\n",
       "        vertical-align: top;\n",
       "    }\n",
       "\n",
       "    .dataframe thead th {\n",
       "        text-align: right;\n",
       "    }\n",
       "</style>\n",
       "<table border=\"1\" class=\"dataframe\">\n",
       "  <thead>\n",
       "    <tr style=\"text-align: right;\">\n",
       "      <th></th>\n",
       "      <th>category</th>\n",
       "      <th>scientific_name</th>\n",
       "      <th>conservation_status</th>\n",
       "      <th>park_name</th>\n",
       "      <th>observations</th>\n",
       "    </tr>\n",
       "  </thead>\n",
       "  <tbody>\n",
       "    <tr>\n",
       "      <th>0</th>\n",
       "      <td>Mammal</td>\n",
       "      <td>Clethrionomys gapperi gapperi</td>\n",
       "      <td>Not in danger</td>\n",
       "      <td>Bryce</td>\n",
       "      <td>130</td>\n",
       "    </tr>\n",
       "    <tr>\n",
       "      <th>1</th>\n",
       "      <td>Mammal</td>\n",
       "      <td>Clethrionomys gapperi gapperi</td>\n",
       "      <td>Not in danger</td>\n",
       "      <td>Yellowstone</td>\n",
       "      <td>270</td>\n",
       "    </tr>\n",
       "    <tr>\n",
       "      <th>2</th>\n",
       "      <td>Mammal</td>\n",
       "      <td>Clethrionomys gapperi gapperi</td>\n",
       "      <td>Not in danger</td>\n",
       "      <td>Great Smoky Mountains</td>\n",
       "      <td>98</td>\n",
       "    </tr>\n",
       "    <tr>\n",
       "      <th>3</th>\n",
       "      <td>Mammal</td>\n",
       "      <td>Clethrionomys gapperi gapperi</td>\n",
       "      <td>Not in danger</td>\n",
       "      <td>Yosemite</td>\n",
       "      <td>117</td>\n",
       "    </tr>\n",
       "    <tr>\n",
       "      <th>4</th>\n",
       "      <td>Mammal</td>\n",
       "      <td>Bos bison</td>\n",
       "      <td>Not in danger</td>\n",
       "      <td>Yosemite</td>\n",
       "      <td>128</td>\n",
       "    </tr>\n",
       "    <tr>\n",
       "      <th>...</th>\n",
       "      <td>...</td>\n",
       "      <td>...</td>\n",
       "      <td>...</td>\n",
       "      <td>...</td>\n",
       "      <td>...</td>\n",
       "    </tr>\n",
       "    <tr>\n",
       "      <th>23296</th>\n",
       "      <td>Vascular Plant</td>\n",
       "      <td>Vitis californica</td>\n",
       "      <td>Not in danger</td>\n",
       "      <td>Yellowstone</td>\n",
       "      <td>237</td>\n",
       "    </tr>\n",
       "    <tr>\n",
       "      <th>23297</th>\n",
       "      <td>Vascular Plant</td>\n",
       "      <td>Tribulus terrestris</td>\n",
       "      <td>Not in danger</td>\n",
       "      <td>Great Smoky Mountains</td>\n",
       "      <td>50</td>\n",
       "    </tr>\n",
       "    <tr>\n",
       "      <th>23298</th>\n",
       "      <td>Vascular Plant</td>\n",
       "      <td>Tribulus terrestris</td>\n",
       "      <td>Not in danger</td>\n",
       "      <td>Yellowstone</td>\n",
       "      <td>239</td>\n",
       "    </tr>\n",
       "    <tr>\n",
       "      <th>23299</th>\n",
       "      <td>Vascular Plant</td>\n",
       "      <td>Tribulus terrestris</td>\n",
       "      <td>Not in danger</td>\n",
       "      <td>Bryce</td>\n",
       "      <td>111</td>\n",
       "    </tr>\n",
       "    <tr>\n",
       "      <th>23300</th>\n",
       "      <td>Vascular Plant</td>\n",
       "      <td>Tribulus terrestris</td>\n",
       "      <td>Not in danger</td>\n",
       "      <td>Yosemite</td>\n",
       "      <td>156</td>\n",
       "    </tr>\n",
       "  </tbody>\n",
       "</table>\n",
       "<p>23301 rows × 5 columns</p>\n",
       "</div>"
      ],
      "text/plain": [
       "             category                scientific_name conservation_status  \\\n",
       "0              Mammal  Clethrionomys gapperi gapperi       Not in danger   \n",
       "1              Mammal  Clethrionomys gapperi gapperi       Not in danger   \n",
       "2              Mammal  Clethrionomys gapperi gapperi       Not in danger   \n",
       "3              Mammal  Clethrionomys gapperi gapperi       Not in danger   \n",
       "4              Mammal                      Bos bison       Not in danger   \n",
       "...               ...                            ...                 ...   \n",
       "23296  Vascular Plant              Vitis californica       Not in danger   \n",
       "23297  Vascular Plant            Tribulus terrestris       Not in danger   \n",
       "23298  Vascular Plant            Tribulus terrestris       Not in danger   \n",
       "23299  Vascular Plant            Tribulus terrestris       Not in danger   \n",
       "23300  Vascular Plant            Tribulus terrestris       Not in danger   \n",
       "\n",
       "                   park_name  observations  \n",
       "0                      Bryce           130  \n",
       "1                Yellowstone           270  \n",
       "2      Great Smoky Mountains            98  \n",
       "3                   Yosemite           117  \n",
       "4                   Yosemite           128  \n",
       "...                      ...           ...  \n",
       "23296            Yellowstone           237  \n",
       "23297  Great Smoky Mountains            50  \n",
       "23298            Yellowstone           239  \n",
       "23299                  Bryce           111  \n",
       "23300               Yosemite           156  \n",
       "\n",
       "[23301 rows x 5 columns]"
      ]
     },
     "execution_count": 18,
     "metadata": {},
     "output_type": "execute_result"
    }
   ],
   "source": [
    "# Now we can merge the data info one dataframe, on the \"scientific_name\" column\n",
    "df = pd.merge(spec_no_dupl, obs_no_dupl, on=\"scientific_name\", how=\"inner\")\n",
    "df"
   ]
  },
  {
   "cell_type": "markdown",
   "metadata": {},
   "source": [
    "## 3. Exploring the data"
   ]
  },
  {
   "cell_type": "code",
   "execution_count": 71,
   "metadata": {},
   "outputs": [
    {
     "data": {
      "text/html": [
       "<div>\n",
       "<style scoped>\n",
       "    .dataframe tbody tr th:only-of-type {\n",
       "        vertical-align: middle;\n",
       "    }\n",
       "\n",
       "    .dataframe tbody tr th {\n",
       "        vertical-align: top;\n",
       "    }\n",
       "\n",
       "    .dataframe thead th {\n",
       "        text-align: right;\n",
       "    }\n",
       "</style>\n",
       "<table border=\"1\" class=\"dataframe\">\n",
       "  <thead>\n",
       "    <tr style=\"text-align: right;\">\n",
       "      <th></th>\n",
       "      <th>park_name</th>\n",
       "      <th>observations</th>\n",
       "    </tr>\n",
       "  </thead>\n",
       "  <tbody>\n",
       "    <tr>\n",
       "      <th>0</th>\n",
       "      <td>Bryce</td>\n",
       "      <td>576195</td>\n",
       "    </tr>\n",
       "    <tr>\n",
       "      <th>1</th>\n",
       "      <td>Great Smoky Mountains</td>\n",
       "      <td>431537</td>\n",
       "    </tr>\n",
       "    <tr>\n",
       "      <th>2</th>\n",
       "      <td>Yellowstone</td>\n",
       "      <td>1443016</td>\n",
       "    </tr>\n",
       "    <tr>\n",
       "      <th>3</th>\n",
       "      <td>Yosemite</td>\n",
       "      <td>863209</td>\n",
       "    </tr>\n",
       "  </tbody>\n",
       "</table>\n",
       "</div>"
      ],
      "text/plain": [
       "               park_name  observations\n",
       "0                  Bryce        576195\n",
       "1  Great Smoky Mountains        431537\n",
       "2            Yellowstone       1443016\n",
       "3               Yosemite        863209"
      ]
     },
     "execution_count": 71,
     "metadata": {},
     "output_type": "execute_result"
    }
   ],
   "source": [
    "# First lets check the distribution of observations across the parks\n",
    "obs_dist = df.groupby(\"park_name\")[\"observations\"].sum().reset_index()\n",
    "obs_dist"
   ]
  },
  {
   "cell_type": "code",
   "execution_count": 59,
   "metadata": {},
   "outputs": [
    {
     "name": "stdout",
     "output_type": "stream",
     "text": [
      "The number of all observations:\n",
      "3313957\n"
     ]
    }
   ],
   "source": [
    "print(\"The number of all observations:\")\n",
    "print(obs_dist[\"observations\"].sum())"
   ]
  },
  {
   "cell_type": "code",
   "execution_count": 20,
   "metadata": {},
   "outputs": [],
   "source": [
    "colors = plt.get_cmap('tab20c').colors"
   ]
  },
  {
   "cell_type": "code",
   "execution_count": 72,
   "metadata": {},
   "outputs": [
    {
     "data": {
      "image/png": "[encoded data removed]",
      "text/plain": [
       "<Figure size 1000x500 with 1 Axes>"
      ]
     },
     "metadata": {},
     "output_type": "display_data"
    },
    {
     "data": {
      "text/plain": [
       "<Figure size 640x480 with 0 Axes>"
      ]
     },
     "metadata": {},
     "output_type": "display_data"
    }
   ],
   "source": [
    "\n",
    "plt.figure(figsize=(10,5))\n",
    "\n",
    "ax = plt.subplot()\n",
    "plt.bar(obs_dist[\"park_name\"], obs_dist[\"observations\"], color=colors, width=0.8)\n",
    "\n",
    "ax.set(title='Distribution of observations across the parks', xlabel='National Park', ylabel='Number of observations')\n",
    "plt.xticks(ha=\"center\")\n",
    "\n",
    "ax.spines['top'].set_visible(False)\n",
    "ax.spines['right'].set_visible(False)\n",
    "\n",
    "plt.ticklabel_format(style='plain', axis='y')\n",
    "\n",
    "plt.show()\n",
    "plt.clf()"
   ]
  },
  {
   "cell_type": "code",
   "execution_count": 22,
   "metadata": {},
   "outputs": [
    {
     "data": {
      "text/html": [
       "<div>\n",
       "<style scoped>\n",
       "    .dataframe tbody tr th:only-of-type {\n",
       "        vertical-align: middle;\n",
       "    }\n",
       "\n",
       "    .dataframe tbody tr th {\n",
       "        vertical-align: top;\n",
       "    }\n",
       "\n",
       "    .dataframe thead th {\n",
       "        text-align: right;\n",
       "    }\n",
       "</style>\n",
       "<table border=\"1\" class=\"dataframe\">\n",
       "  <thead>\n",
       "    <tr style=\"text-align: right;\">\n",
       "      <th></th>\n",
       "      <th>category</th>\n",
       "      <th>observations</th>\n",
       "    </tr>\n",
       "  </thead>\n",
       "  <tbody>\n",
       "    <tr>\n",
       "      <th>0</th>\n",
       "      <td>Amphibian</td>\n",
       "      <td>43971</td>\n",
       "    </tr>\n",
       "    <tr>\n",
       "      <th>1</th>\n",
       "      <td>Bird</td>\n",
       "      <td>292578</td>\n",
       "    </tr>\n",
       "    <tr>\n",
       "      <th>2</th>\n",
       "      <td>Fish</td>\n",
       "      <td>71631</td>\n",
       "    </tr>\n",
       "    <tr>\n",
       "      <th>3</th>\n",
       "      <td>Mammal</td>\n",
       "      <td>117155</td>\n",
       "    </tr>\n",
       "    <tr>\n",
       "      <th>4</th>\n",
       "      <td>Nonvascular Plant</td>\n",
       "      <td>190653</td>\n",
       "    </tr>\n",
       "    <tr>\n",
       "      <th>5</th>\n",
       "      <td>Reptile</td>\n",
       "      <td>44678</td>\n",
       "    </tr>\n",
       "    <tr>\n",
       "      <th>6</th>\n",
       "      <td>Vascular Plant</td>\n",
       "      <td>2553291</td>\n",
       "    </tr>\n",
       "  </tbody>\n",
       "</table>\n",
       "</div>"
      ],
      "text/plain": [
       "            category  observations\n",
       "0          Amphibian         43971\n",
       "1               Bird        292578\n",
       "2               Fish         71631\n",
       "3             Mammal        117155\n",
       "4  Nonvascular Plant        190653\n",
       "5            Reptile         44678\n",
       "6     Vascular Plant       2553291"
      ]
     },
     "execution_count": 22,
     "metadata": {},
     "output_type": "execute_result"
    }
   ],
   "source": [
    "# Lets check the different species category and their distribution through the parks\n",
    "spec_cat = df.groupby(\"category\")[\"observations\"].sum().reset_index()\n",
    "spec_cat"
   ]
  },
  {
   "cell_type": "code",
   "execution_count": 83,
   "metadata": {},
   "outputs": [
    {
     "data": {
      "image/png": "[encoded data removed]",
      "text/plain": [
       "<Figure size 1000x500 with 1 Axes>"
      ]
     },
     "metadata": {},
     "output_type": "display_data"
    },
    {
     "data": {
      "text/plain": [
       "<Figure size 640x480 with 0 Axes>"
      ]
     },
     "metadata": {},
     "output_type": "display_data"
    }
   ],
   "source": [
    "plt.figure(figsize=(10,5))\n",
    "\n",
    "ax = plt.subplot()\n",
    "plt.bar(spec_cat[\"category\"], spec_cat[\"observations\"], color=colors, width=0.8)\n",
    "\n",
    "ax.set(title='Distribution of species category', xlabel='Species category', ylabel='Number of observations')\n",
    "plt.xticks(ha=\"center\")\n",
    "\n",
    "ax.spines['top'].set_visible(False)\n",
    "ax.spines['right'].set_visible(False)\n",
    "\n",
    "plt.ticklabel_format(style='plain', axis='y')\n",
    "\n",
    "plt.show()\n",
    "plt.clf()"
   ]
  },
  {
   "cell_type": "code",
   "execution_count": 24,
   "metadata": {},
   "outputs": [],
   "source": [
    "bryce_cat = df[df[\"park_name\"] == \"Bryce\"].groupby(\"category\")[\"observations\"].sum().reset_index()\n",
    "gsm_cat = df[df[\"park_name\"] == \"Great Smoky Mountains\"].groupby(\"category\")[\"observations\"].sum().reset_index()\n",
    "yellowstone_cat = df[df[\"park_name\"] == \"Yellowstone\"].groupby(\"category\")[\"observations\"].sum().reset_index()\n",
    "yosemite_cat = df[df[\"park_name\"] == \"Yosemite\"].groupby(\"category\")[\"observations\"].sum().reset_index()"
   ]
  },
  {
   "cell_type": "code",
   "execution_count": 79,
   "metadata": {},
   "outputs": [
    {
     "data": {
      "image/png": "[encoded data removed]",
      "text/plain": [
       "<Figure size 1000x500 with 1 Axes>"
      ]
     },
     "metadata": {},
     "output_type": "display_data"
    },
    {
     "data": {
      "text/plain": [
       "<Figure size 640x480 with 0 Axes>"
      ]
     },
     "metadata": {},
     "output_type": "display_data"
    }
   ],
   "source": [
    "# Bryce park in blue color\n",
    "n = 1  # This is our first dataset (out of 4)\n",
    "t = 4 # Number of datasets\n",
    "d = 7 # Number of sets of bars (categories)\n",
    "w = 0.8 # Width of each bar\n",
    "x_values1 = [t*bryce_cat + w*n for bryce_cat in range(d)]\n",
    "\n",
    "# Great Smoky Mountains park in orange color\n",
    "n = 2  # This is our first dataset (out of 4)\n",
    "t = 4 # Number of datasets\n",
    "d = 7 # Number of sets of bars (categories)\n",
    "w = 0.8 # Width of each bar\n",
    "x_values2 = [t*gsm_cat + w*n for gsm_cat in range(d)]\n",
    "\n",
    "# Yellowstone park in green color\n",
    "n = 3  # This is our first dataset (out of 4)\n",
    "t = 4 # Number of datasets\n",
    "d = 7 # Number of sets of bars (categories)\n",
    "w = 0.8 # Width of each bar\n",
    "x_values3 = [t*yellowstone_cat + w*n for yellowstone_cat in range(d)]\n",
    "\n",
    "# Yosemite park in red color\n",
    "n = 4  # This is our first dataset (out of 4)\n",
    "t = 4 # Number of datasets\n",
    "d = 7 # Number of sets of bars (categories)\n",
    "w = 0.8 # Width of each bar\n",
    "x_values4 = [t*yosemite_cat + w*n for yosemite_cat in range(d)]\n",
    "\n",
    "middle_x = [(a + b + c + d) / 4.0 for a, b, c, d in zip(x_values1, x_values2, x_values3, x_values4)]\n",
    "\n",
    "plt.figure(figsize=(10,5))\n",
    "ax = plt.subplot()\n",
    "plt.bar(x_values1, bryce_cat[\"observations\"])\n",
    "plt.bar(x_values2, gsm_cat[\"observations\"])\n",
    "plt.bar(x_values3, yellowstone_cat[\"observations\"])\n",
    "plt.bar(x_values4, yosemite_cat[\"observations\"])\n",
    "\n",
    "ax.set_xticks(middle_x)\n",
    "\n",
    "ax.legend([\"Bryce\", \"Great Smoky Mountains\", \"Yellowstone\", \"Yosemite\"])\n",
    "ax.set_xlabel(\"Species category\")\n",
    "ax.set_ylabel(\"# of observations\")\n",
    "plt.title(\"Distribution of species category through parks\")\n",
    "#plt.xticks(rotation = 25)\n",
    "\n",
    "ax.set_xticklabels(spec_cat[\"category\"], ha=\"center\")\n",
    "ax.spines['top'].set_visible(False)\n",
    "ax.spines['right'].set_visible(False)\n",
    "\n",
    "plt.ticklabel_format(style='plain', axis='y')\n",
    "\n",
    "plt.show()\n",
    "plt.clf()"
   ]
  },
  {
   "cell_type": "code",
   "execution_count": 26,
   "metadata": {},
   "outputs": [],
   "source": [
    "# Now lets check the Conservation status of the observed species through parks"
   ]
  },
  {
   "cell_type": "code",
   "execution_count": 27,
   "metadata": {},
   "outputs": [
    {
     "data": {
      "text/html": [
       "<div>\n",
       "<style scoped>\n",
       "    .dataframe tbody tr th:only-of-type {\n",
       "        vertical-align: middle;\n",
       "    }\n",
       "\n",
       "    .dataframe tbody tr th {\n",
       "        vertical-align: top;\n",
       "    }\n",
       "\n",
       "    .dataframe thead th {\n",
       "        text-align: right;\n",
       "    }\n",
       "</style>\n",
       "<table border=\"1\" class=\"dataframe\">\n",
       "  <thead>\n",
       "    <tr style=\"text-align: right;\">\n",
       "      <th>category</th>\n",
       "      <th>Amphibian</th>\n",
       "      <th>Bird</th>\n",
       "      <th>Fish</th>\n",
       "      <th>Mammal</th>\n",
       "      <th>Nonvascular Plant</th>\n",
       "      <th>Reptile</th>\n",
       "      <th>Vascular Plant</th>\n",
       "    </tr>\n",
       "    <tr>\n",
       "      <th>conservation_status</th>\n",
       "      <th></th>\n",
       "      <th></th>\n",
       "      <th></th>\n",
       "      <th></th>\n",
       "      <th></th>\n",
       "      <th></th>\n",
       "      <th></th>\n",
       "    </tr>\n",
       "  </thead>\n",
       "  <tbody>\n",
       "    <tr>\n",
       "      <th>Endangered</th>\n",
       "      <td>1.0</td>\n",
       "      <td>4.0</td>\n",
       "      <td>3.0</td>\n",
       "      <td>7.0</td>\n",
       "      <td>NaN</td>\n",
       "      <td>NaN</td>\n",
       "      <td>1.0</td>\n",
       "    </tr>\n",
       "    <tr>\n",
       "      <th>In Recovery</th>\n",
       "      <td>NaN</td>\n",
       "      <td>3.0</td>\n",
       "      <td>NaN</td>\n",
       "      <td>1.0</td>\n",
       "      <td>NaN</td>\n",
       "      <td>NaN</td>\n",
       "      <td>NaN</td>\n",
       "    </tr>\n",
       "    <tr>\n",
       "      <th>Species of Concern</th>\n",
       "      <td>4.0</td>\n",
       "      <td>72.0</td>\n",
       "      <td>4.0</td>\n",
       "      <td>28.0</td>\n",
       "      <td>5.0</td>\n",
       "      <td>5.0</td>\n",
       "      <td>43.0</td>\n",
       "    </tr>\n",
       "    <tr>\n",
       "      <th>Threatened</th>\n",
       "      <td>2.0</td>\n",
       "      <td>NaN</td>\n",
       "      <td>4.0</td>\n",
       "      <td>2.0</td>\n",
       "      <td>NaN</td>\n",
       "      <td>NaN</td>\n",
       "      <td>2.0</td>\n",
       "    </tr>\n",
       "  </tbody>\n",
       "</table>\n",
       "</div>"
      ],
      "text/plain": [
       "category             Amphibian  Bird  Fish  Mammal  Nonvascular Plant  \\\n",
       "conservation_status                                                     \n",
       "Endangered                 1.0   4.0   3.0     7.0                NaN   \n",
       "In Recovery                NaN   3.0   NaN     1.0                NaN   \n",
       "Species of Concern         4.0  72.0   4.0    28.0                5.0   \n",
       "Threatened                 2.0   NaN   4.0     2.0                NaN   \n",
       "\n",
       "category             Reptile  Vascular Plant  \n",
       "conservation_status                           \n",
       "Endangered               NaN             1.0  \n",
       "In Recovery              NaN             NaN  \n",
       "Species of Concern       5.0            43.0  \n",
       "Threatened               NaN             2.0  "
      ]
     },
     "execution_count": 27,
     "metadata": {},
     "output_type": "execute_result"
    }
   ],
   "source": [
    "cons_stat = species[species[\"conservation_status\"] != \"Not in danger\"]\\\n",
    "    .groupby([\"conservation_status\", \"category\"])[\"scientific_name\"].count().unstack()\n",
    "cons_stat"
   ]
  },
  {
   "cell_type": "code",
   "execution_count": 28,
   "metadata": {},
   "outputs": [
    {
     "name": "stdout",
     "output_type": "stream",
     "text": [
      "<class 'pandas.core.frame.DataFrame'>\n",
      "Index: 4 entries, Endangered to Threatened\n",
      "Data columns (total 7 columns):\n",
      " #   Column             Non-Null Count  Dtype  \n",
      "---  ------             --------------  -----  \n",
      " 0   Amphibian          3 non-null      float64\n",
      " 1   Bird               3 non-null      float64\n",
      " 2   Fish               3 non-null      float64\n",
      " 3   Mammal             4 non-null      float64\n",
      " 4   Nonvascular Plant  1 non-null      float64\n",
      " 5   Reptile            1 non-null      float64\n",
      " 6   Vascular Plant     3 non-null      float64\n",
      "dtypes: float64(7)\n",
      "memory usage: 256.0+ bytes\n"
     ]
    }
   ],
   "source": [
    "cons_stat.info()"
   ]
  },
  {
   "cell_type": "code",
   "execution_count": 89,
   "metadata": {},
   "outputs": [
    {
     "data": {
      "image/png": "[encoded data removed]",
      "text/plain": [
       "<Figure size 1000x500 with 1 Axes>"
      ]
     },
     "metadata": {},
     "output_type": "display_data"
    },
    {
     "data": {
      "text/plain": [
       "<Figure size 640x480 with 0 Axes>"
      ]
     },
     "metadata": {},
     "output_type": "display_data"
    }
   ],
   "source": [
    "ax = cons_stat.plot(kind=\"bar\", figsize=(10,5), stacked=True)\n",
    "ax.set_xlabel(\"Conservation status\")\n",
    "ax.set_ylabel(\"Number of species\")\n",
    "ax.set_title(\"Category of protected species\")\n",
    "ax.tick_params(axis=\"x\", which=\"major\", pad=10)\n",
    "\n",
    "ax.spines['top'].set_visible(False)\n",
    "ax.spines['right'].set_visible(False)\n",
    "\n",
    "plt.xticks(rotation=0, ha=\"center\")\n",
    "\n",
    "plt.show()\n",
    "plt.clf()"
   ]
  },
  {
   "cell_type": "code",
   "execution_count": 30,
   "metadata": {},
   "outputs": [
    {
     "data": {
      "text/html": [
       "<div>\n",
       "<style scoped>\n",
       "    .dataframe tbody tr th:only-of-type {\n",
       "        vertical-align: middle;\n",
       "    }\n",
       "\n",
       "    .dataframe tbody tr th {\n",
       "        vertical-align: top;\n",
       "    }\n",
       "\n",
       "    .dataframe thead th {\n",
       "        text-align: right;\n",
       "    }\n",
       "</style>\n",
       "<table border=\"1\" class=\"dataframe\">\n",
       "  <thead>\n",
       "    <tr style=\"text-align: right;\">\n",
       "      <th></th>\n",
       "      <th>category</th>\n",
       "      <th>scientific_name</th>\n",
       "      <th>conservation_status</th>\n",
       "      <th>park_name</th>\n",
       "      <th>observations</th>\n",
       "    </tr>\n",
       "  </thead>\n",
       "  <tbody>\n",
       "    <tr>\n",
       "      <th>0</th>\n",
       "      <td>Mammal</td>\n",
       "      <td>Canis latrans</td>\n",
       "      <td>Species of Concern</td>\n",
       "      <td>Bryce</td>\n",
       "      <td>85</td>\n",
       "    </tr>\n",
       "    <tr>\n",
       "      <th>1</th>\n",
       "      <td>Mammal</td>\n",
       "      <td>Canis latrans</td>\n",
       "      <td>Species of Concern</td>\n",
       "      <td>Yellowstone</td>\n",
       "      <td>206</td>\n",
       "    </tr>\n",
       "    <tr>\n",
       "      <th>2</th>\n",
       "      <td>Mammal</td>\n",
       "      <td>Canis latrans</td>\n",
       "      <td>Species of Concern</td>\n",
       "      <td>Great Smoky Mountains</td>\n",
       "      <td>68</td>\n",
       "    </tr>\n",
       "    <tr>\n",
       "      <th>3</th>\n",
       "      <td>Mammal</td>\n",
       "      <td>Canis latrans</td>\n",
       "      <td>Species of Concern</td>\n",
       "      <td>Yosemite</td>\n",
       "      <td>99</td>\n",
       "    </tr>\n",
       "    <tr>\n",
       "      <th>4</th>\n",
       "      <td>Mammal</td>\n",
       "      <td>Canis lupus</td>\n",
       "      <td>Endangered</td>\n",
       "      <td>Yosemite</td>\n",
       "      <td>35</td>\n",
       "    </tr>\n",
       "    <tr>\n",
       "      <th>...</th>\n",
       "      <td>...</td>\n",
       "      <td>...</td>\n",
       "      <td>...</td>\n",
       "      <td>...</td>\n",
       "      <td>...</td>\n",
       "    </tr>\n",
       "    <tr>\n",
       "      <th>775</th>\n",
       "      <td>Vascular Plant</td>\n",
       "      <td>Botrychium ascendens</td>\n",
       "      <td>Species of Concern</td>\n",
       "      <td>Great Smoky Mountains</td>\n",
       "      <td>30</td>\n",
       "    </tr>\n",
       "    <tr>\n",
       "      <th>776</th>\n",
       "      <td>Vascular Plant</td>\n",
       "      <td>Romneya coulteri</td>\n",
       "      <td>Species of Concern</td>\n",
       "      <td>Bryce</td>\n",
       "      <td>101</td>\n",
       "    </tr>\n",
       "    <tr>\n",
       "      <th>777</th>\n",
       "      <td>Vascular Plant</td>\n",
       "      <td>Romneya coulteri</td>\n",
       "      <td>Species of Concern</td>\n",
       "      <td>Yosemite</td>\n",
       "      <td>125</td>\n",
       "    </tr>\n",
       "    <tr>\n",
       "      <th>778</th>\n",
       "      <td>Vascular Plant</td>\n",
       "      <td>Romneya coulteri</td>\n",
       "      <td>Species of Concern</td>\n",
       "      <td>Great Smoky Mountains</td>\n",
       "      <td>67</td>\n",
       "    </tr>\n",
       "    <tr>\n",
       "      <th>779</th>\n",
       "      <td>Vascular Plant</td>\n",
       "      <td>Romneya coulteri</td>\n",
       "      <td>Species of Concern</td>\n",
       "      <td>Yellowstone</td>\n",
       "      <td>215</td>\n",
       "    </tr>\n",
       "  </tbody>\n",
       "</table>\n",
       "<p>780 rows × 5 columns</p>\n",
       "</div>"
      ],
      "text/plain": [
       "           category       scientific_name conservation_status  \\\n",
       "0            Mammal         Canis latrans  Species of Concern   \n",
       "1            Mammal         Canis latrans  Species of Concern   \n",
       "2            Mammal         Canis latrans  Species of Concern   \n",
       "3            Mammal         Canis latrans  Species of Concern   \n",
       "4            Mammal           Canis lupus          Endangered   \n",
       "..              ...                   ...                 ...   \n",
       "775  Vascular Plant  Botrychium ascendens  Species of Concern   \n",
       "776  Vascular Plant      Romneya coulteri  Species of Concern   \n",
       "777  Vascular Plant      Romneya coulteri  Species of Concern   \n",
       "778  Vascular Plant      Romneya coulteri  Species of Concern   \n",
       "779  Vascular Plant      Romneya coulteri  Species of Concern   \n",
       "\n",
       "                 park_name  observations  \n",
       "0                    Bryce            85  \n",
       "1              Yellowstone           206  \n",
       "2    Great Smoky Mountains            68  \n",
       "3                 Yosemite            99  \n",
       "4                 Yosemite            35  \n",
       "..                     ...           ...  \n",
       "775  Great Smoky Mountains            30  \n",
       "776                  Bryce           101  \n",
       "777               Yosemite           125  \n",
       "778  Great Smoky Mountains            67  \n",
       "779            Yellowstone           215  \n",
       "\n",
       "[780 rows x 5 columns]"
      ]
     },
     "execution_count": 30,
     "metadata": {},
     "output_type": "execute_result"
    }
   ],
   "source": [
    "cons_spec_park = df[df.conservation_status != \"Not in danger\"].reset_index()\n",
    "cons_spec_park = cons_spec_park.drop('index', axis=1)\n",
    "cons_spec_park "
   ]
  },
  {
   "cell_type": "code",
   "execution_count": 31,
   "metadata": {},
   "outputs": [
    {
     "data": {
      "text/html": [
       "<div>\n",
       "<style scoped>\n",
       "    .dataframe tbody tr th:only-of-type {\n",
       "        vertical-align: middle;\n",
       "    }\n",
       "\n",
       "    .dataframe tbody tr th {\n",
       "        vertical-align: top;\n",
       "    }\n",
       "\n",
       "    .dataframe thead th {\n",
       "        text-align: right;\n",
       "    }\n",
       "</style>\n",
       "<table border=\"1\" class=\"dataframe\">\n",
       "  <thead>\n",
       "    <tr style=\"text-align: right;\">\n",
       "      <th></th>\n",
       "      <th>category</th>\n",
       "      <th>park_name</th>\n",
       "      <th>observations</th>\n",
       "    </tr>\n",
       "  </thead>\n",
       "  <tbody>\n",
       "    <tr>\n",
       "      <th>0</th>\n",
       "      <td>Amphibian</td>\n",
       "      <td>Bryce</td>\n",
       "      <td>498</td>\n",
       "    </tr>\n",
       "    <tr>\n",
       "      <th>1</th>\n",
       "      <td>Amphibian</td>\n",
       "      <td>Great Smoky Mountains</td>\n",
       "      <td>333</td>\n",
       "    </tr>\n",
       "    <tr>\n",
       "      <th>2</th>\n",
       "      <td>Amphibian</td>\n",
       "      <td>Yellowstone</td>\n",
       "      <td>1167</td>\n",
       "    </tr>\n",
       "    <tr>\n",
       "      <th>3</th>\n",
       "      <td>Amphibian</td>\n",
       "      <td>Yosemite</td>\n",
       "      <td>754</td>\n",
       "    </tr>\n",
       "    <tr>\n",
       "      <th>4</th>\n",
       "      <td>Bird</td>\n",
       "      <td>Bryce</td>\n",
       "      <td>6926</td>\n",
       "    </tr>\n",
       "    <tr>\n",
       "      <th>5</th>\n",
       "      <td>Bird</td>\n",
       "      <td>Great Smoky Mountains</td>\n",
       "      <td>4741</td>\n",
       "    </tr>\n",
       "    <tr>\n",
       "      <th>6</th>\n",
       "      <td>Bird</td>\n",
       "      <td>Yellowstone</td>\n",
       "      <td>16788</td>\n",
       "    </tr>\n",
       "    <tr>\n",
       "      <th>7</th>\n",
       "      <td>Bird</td>\n",
       "      <td>Yosemite</td>\n",
       "      <td>10153</td>\n",
       "    </tr>\n",
       "    <tr>\n",
       "      <th>8</th>\n",
       "      <td>Fish</td>\n",
       "      <td>Bryce</td>\n",
       "      <td>731</td>\n",
       "    </tr>\n",
       "    <tr>\n",
       "      <th>9</th>\n",
       "      <td>Fish</td>\n",
       "      <td>Great Smoky Mountains</td>\n",
       "      <td>547</td>\n",
       "    </tr>\n",
       "    <tr>\n",
       "      <th>10</th>\n",
       "      <td>Fish</td>\n",
       "      <td>Yellowstone</td>\n",
       "      <td>1875</td>\n",
       "    </tr>\n",
       "    <tr>\n",
       "      <th>11</th>\n",
       "      <td>Fish</td>\n",
       "      <td>Yosemite</td>\n",
       "      <td>1056</td>\n",
       "    </tr>\n",
       "    <tr>\n",
       "      <th>12</th>\n",
       "      <td>Mammal</td>\n",
       "      <td>Bryce</td>\n",
       "      <td>3167</td>\n",
       "    </tr>\n",
       "    <tr>\n",
       "      <th>13</th>\n",
       "      <td>Mammal</td>\n",
       "      <td>Great Smoky Mountains</td>\n",
       "      <td>2027</td>\n",
       "    </tr>\n",
       "    <tr>\n",
       "      <th>14</th>\n",
       "      <td>Mammal</td>\n",
       "      <td>Yellowstone</td>\n",
       "      <td>7550</td>\n",
       "    </tr>\n",
       "    <tr>\n",
       "      <th>15</th>\n",
       "      <td>Mammal</td>\n",
       "      <td>Yosemite</td>\n",
       "      <td>4420</td>\n",
       "    </tr>\n",
       "    <tr>\n",
       "      <th>16</th>\n",
       "      <td>Nonvascular Plant</td>\n",
       "      <td>Bryce</td>\n",
       "      <td>486</td>\n",
       "    </tr>\n",
       "    <tr>\n",
       "      <th>17</th>\n",
       "      <td>Nonvascular Plant</td>\n",
       "      <td>Great Smoky Mountains</td>\n",
       "      <td>373</td>\n",
       "    </tr>\n",
       "    <tr>\n",
       "      <th>18</th>\n",
       "      <td>Nonvascular Plant</td>\n",
       "      <td>Yellowstone</td>\n",
       "      <td>1169</td>\n",
       "    </tr>\n",
       "    <tr>\n",
       "      <th>19</th>\n",
       "      <td>Nonvascular Plant</td>\n",
       "      <td>Yosemite</td>\n",
       "      <td>677</td>\n",
       "    </tr>\n",
       "    <tr>\n",
       "      <th>20</th>\n",
       "      <td>Reptile</td>\n",
       "      <td>Bryce</td>\n",
       "      <td>387</td>\n",
       "    </tr>\n",
       "    <tr>\n",
       "      <th>21</th>\n",
       "      <td>Reptile</td>\n",
       "      <td>Great Smoky Mountains</td>\n",
       "      <td>365</td>\n",
       "    </tr>\n",
       "    <tr>\n",
       "      <th>22</th>\n",
       "      <td>Reptile</td>\n",
       "      <td>Yellowstone</td>\n",
       "      <td>1100</td>\n",
       "    </tr>\n",
       "    <tr>\n",
       "      <th>23</th>\n",
       "      <td>Reptile</td>\n",
       "      <td>Yosemite</td>\n",
       "      <td>684</td>\n",
       "    </tr>\n",
       "    <tr>\n",
       "      <th>24</th>\n",
       "      <td>Vascular Plant</td>\n",
       "      <td>Bryce</td>\n",
       "      <td>4198</td>\n",
       "    </tr>\n",
       "    <tr>\n",
       "      <th>25</th>\n",
       "      <td>Vascular Plant</td>\n",
       "      <td>Great Smoky Mountains</td>\n",
       "      <td>2950</td>\n",
       "    </tr>\n",
       "    <tr>\n",
       "      <th>26</th>\n",
       "      <td>Vascular Plant</td>\n",
       "      <td>Yellowstone</td>\n",
       "      <td>9716</td>\n",
       "    </tr>\n",
       "    <tr>\n",
       "      <th>27</th>\n",
       "      <td>Vascular Plant</td>\n",
       "      <td>Yosemite</td>\n",
       "      <td>5985</td>\n",
       "    </tr>\n",
       "  </tbody>\n",
       "</table>\n",
       "</div>"
      ],
      "text/plain": [
       "             category              park_name  observations\n",
       "0           Amphibian                  Bryce           498\n",
       "1           Amphibian  Great Smoky Mountains           333\n",
       "2           Amphibian            Yellowstone          1167\n",
       "3           Amphibian               Yosemite           754\n",
       "4                Bird                  Bryce          6926\n",
       "5                Bird  Great Smoky Mountains          4741\n",
       "6                Bird            Yellowstone         16788\n",
       "7                Bird               Yosemite         10153\n",
       "8                Fish                  Bryce           731\n",
       "9                Fish  Great Smoky Mountains           547\n",
       "10               Fish            Yellowstone          1875\n",
       "11               Fish               Yosemite          1056\n",
       "12             Mammal                  Bryce          3167\n",
       "13             Mammal  Great Smoky Mountains          2027\n",
       "14             Mammal            Yellowstone          7550\n",
       "15             Mammal               Yosemite          4420\n",
       "16  Nonvascular Plant                  Bryce           486\n",
       "17  Nonvascular Plant  Great Smoky Mountains           373\n",
       "18  Nonvascular Plant            Yellowstone          1169\n",
       "19  Nonvascular Plant               Yosemite           677\n",
       "20            Reptile                  Bryce           387\n",
       "21            Reptile  Great Smoky Mountains           365\n",
       "22            Reptile            Yellowstone          1100\n",
       "23            Reptile               Yosemite           684\n",
       "24     Vascular Plant                  Bryce          4198\n",
       "25     Vascular Plant  Great Smoky Mountains          2950\n",
       "26     Vascular Plant            Yellowstone          9716\n",
       "27     Vascular Plant               Yosemite          5985"
      ]
     },
     "execution_count": 31,
     "metadata": {},
     "output_type": "execute_result"
    }
   ],
   "source": [
    "cons_spec_park = cons_spec_park.groupby([\"category\", \"park_name\"])\\\n",
    "    [\"observations\"].sum().reset_index()\n",
    "cons_spec_park"
   ]
  },
  {
   "cell_type": "code",
   "execution_count": 32,
   "metadata": {},
   "outputs": [],
   "source": [
    "bryce_con = cons_spec_park[cons_spec_park[\"park_name\"] == \"Bryce\"].groupby(\"category\")[\"observations\"].sum().reset_index()\n",
    "gsm_con = cons_spec_park[cons_spec_park[\"park_name\"] == \"Great Smoky Mountains\"].groupby(\"category\")[\"observations\"].sum().reset_index()\n",
    "yellowstone_con = cons_spec_park[cons_spec_park[\"park_name\"] == \"Yellowstone\"].groupby(\"category\")[\"observations\"].sum().reset_index()\n",
    "yosemite_con = cons_spec_park[cons_spec_park[\"park_name\"] == \"Yosemite\"].groupby(\"category\")[\"observations\"].sum().reset_index()"
   ]
  },
  {
   "cell_type": "code",
   "execution_count": 98,
   "metadata": {},
   "outputs": [
    {
     "data": {
      "image/png": "[encoded data removed]",
      "text/plain": [
       "<Figure size 1000x500 with 1 Axes>"
      ]
     },
     "metadata": {},
     "output_type": "display_data"
    },
    {
     "data": {
      "text/plain": [
       "<Figure size 640x480 with 0 Axes>"
      ]
     },
     "metadata": {},
     "output_type": "display_data"
    }
   ],
   "source": [
    "# Bryce park in blue color\n",
    "n = 1  # This is our first dataset (out of 4)\n",
    "t = 4 # Number of datasets\n",
    "d = 7 # Number of sets of bars (categories)\n",
    "w = 0.8 # Width of each bar\n",
    "x_values1_1 = [t*bryce_con + w*n for bryce_con in range(d)]\n",
    "\n",
    "# Great Smoky Mountains park in orange color\n",
    "n = 2  # This is our first dataset (out of 4)\n",
    "t = 4 # Number of datasets\n",
    "d = 7 # Number of sets of bars (categories)\n",
    "w = 0.8 # Width of each bar\n",
    "x_values2_1 = [t*gsm_con + w*n for gsm_con in range(d)]\n",
    "\n",
    "# Yellowstone park in green color\n",
    "n = 3  # This is our first dataset (out of 4)\n",
    "t = 4 # Number of datasets\n",
    "d = 7 # Number of sets of bars (categories)\n",
    "w = 0.8 # Width of each bar\n",
    "x_values3_1 = [t*yellowstone_con + w*n for yellowstone_con in range(d)]\n",
    "\n",
    "# Yosemite park in red color\n",
    "n = 4  # This is our first dataset (out of 4)\n",
    "t = 4 # Number of datasets\n",
    "d = 7 # Number of sets of bars (categories)\n",
    "w = 0.8 # Width of each bar\n",
    "x_values4_1 = [t*yosemite_con + w*n for yosemite_con in range(d)]\n",
    "\n",
    "middle_x_1 = [(a + b + c + d) / 4.0 for a, b, c, d in zip(x_values1_1, x_values2_1, x_values3_1, x_values4_1)]\n",
    "\n",
    "plt.figure(figsize=(10,5))\n",
    "ax = plt.subplot()\n",
    "plt.bar(x_values1_1, bryce_con[\"observations\"])\n",
    "plt.bar(x_values2_1, gsm_con[\"observations\"])\n",
    "plt.bar(x_values3_1, yellowstone_con[\"observations\"])\n",
    "plt.bar(x_values4_1, yosemite_con[\"observations\"])\n",
    "\n",
    "ax.set_xticks(middle_x_1)\n",
    "\n",
    "ax.legend([\"Bryce\", \"Great Smoky Mountains\", \"Yellowstone\", \"Yosemite\"])\n",
    "ax.set_xlabel(\"Species category\")\n",
    "ax.set_ylabel(\"Number of observations\")\n",
    "plt.title(\"Distribution of species category through parks\")\n",
    "\n",
    "ax.spines['top'].set_visible(False)\n",
    "ax.spines['right'].set_visible(False)\n",
    "\n",
    "ax.set_xticklabels(cons_spec_park[\"category\"].unique(), ha=\"center\")\n",
    "\n",
    "plt.show()\n",
    "plt.clf()"
   ]
  },
  {
   "cell_type": "markdown",
   "metadata": {},
   "source": [
    "We can check the percentile of endangered species against \"not in danger\", among the parks, and through species."
   ]
  },
  {
   "cell_type": "code",
   "execution_count": 34,
   "metadata": {},
   "outputs": [
    {
     "data": {
      "text/html": [
       "<div>\n",
       "<style scoped>\n",
       "    .dataframe tbody tr th:only-of-type {\n",
       "        vertical-align: middle;\n",
       "    }\n",
       "\n",
       "    .dataframe tbody tr th {\n",
       "        vertical-align: top;\n",
       "    }\n",
       "\n",
       "    .dataframe thead th {\n",
       "        text-align: right;\n",
       "    }\n",
       "</style>\n",
       "<table border=\"1\" class=\"dataframe\">\n",
       "  <thead>\n",
       "    <tr style=\"text-align: right;\">\n",
       "      <th></th>\n",
       "      <th>category</th>\n",
       "      <th>scientific_name</th>\n",
       "      <th>conservation_status</th>\n",
       "    </tr>\n",
       "  </thead>\n",
       "  <tbody>\n",
       "    <tr>\n",
       "      <th>count</th>\n",
       "      <td>5824</td>\n",
       "      <td>5824</td>\n",
       "      <td>5824</td>\n",
       "    </tr>\n",
       "    <tr>\n",
       "      <th>unique</th>\n",
       "      <td>7</td>\n",
       "      <td>5541</td>\n",
       "      <td>5</td>\n",
       "    </tr>\n",
       "    <tr>\n",
       "      <th>top</th>\n",
       "      <td>Vascular Plant</td>\n",
       "      <td>Castor canadensis</td>\n",
       "      <td>Not in danger</td>\n",
       "    </tr>\n",
       "    <tr>\n",
       "      <th>freq</th>\n",
       "      <td>4470</td>\n",
       "      <td>3</td>\n",
       "      <td>5633</td>\n",
       "    </tr>\n",
       "  </tbody>\n",
       "</table>\n",
       "</div>"
      ],
      "text/plain": [
       "              category    scientific_name conservation_status\n",
       "count             5824               5824                5824\n",
       "unique               7               5541                   5\n",
       "top     Vascular Plant  Castor canadensis       Not in danger\n",
       "freq              4470                  3                5633"
      ]
     },
     "execution_count": 34,
     "metadata": {},
     "output_type": "execute_result"
    }
   ],
   "source": [
    "species.describe()"
   ]
  },
  {
   "cell_type": "code",
   "execution_count": 35,
   "metadata": {},
   "outputs": [],
   "source": [
    "species_cstat = species.copy()"
   ]
  },
  {
   "cell_type": "code",
   "execution_count": 36,
   "metadata": {},
   "outputs": [
    {
     "data": {
      "text/html": [
       "<div>\n",
       "<style scoped>\n",
       "    .dataframe tbody tr th:only-of-type {\n",
       "        vertical-align: middle;\n",
       "    }\n",
       "\n",
       "    .dataframe tbody tr th {\n",
       "        vertical-align: top;\n",
       "    }\n",
       "\n",
       "    .dataframe thead th {\n",
       "        text-align: right;\n",
       "    }\n",
       "</style>\n",
       "<table border=\"1\" class=\"dataframe\">\n",
       "  <thead>\n",
       "    <tr style=\"text-align: right;\">\n",
       "      <th></th>\n",
       "      <th>category</th>\n",
       "      <th>scientific_name</th>\n",
       "      <th>conservation_status</th>\n",
       "      <th>endangered</th>\n",
       "    </tr>\n",
       "  </thead>\n",
       "  <tbody>\n",
       "    <tr>\n",
       "      <th>0</th>\n",
       "      <td>Mammal</td>\n",
       "      <td>Clethrionomys gapperi gapperi</td>\n",
       "      <td>Not in danger</td>\n",
       "      <td>False</td>\n",
       "    </tr>\n",
       "    <tr>\n",
       "      <th>1</th>\n",
       "      <td>Mammal</td>\n",
       "      <td>Bos bison</td>\n",
       "      <td>Not in danger</td>\n",
       "      <td>False</td>\n",
       "    </tr>\n",
       "    <tr>\n",
       "      <th>2</th>\n",
       "      <td>Mammal</td>\n",
       "      <td>Bos taurus</td>\n",
       "      <td>Not in danger</td>\n",
       "      <td>False</td>\n",
       "    </tr>\n",
       "    <tr>\n",
       "      <th>3</th>\n",
       "      <td>Mammal</td>\n",
       "      <td>Ovis aries</td>\n",
       "      <td>Not in danger</td>\n",
       "      <td>False</td>\n",
       "    </tr>\n",
       "    <tr>\n",
       "      <th>4</th>\n",
       "      <td>Mammal</td>\n",
       "      <td>Cervus elaphus</td>\n",
       "      <td>Not in danger</td>\n",
       "      <td>False</td>\n",
       "    </tr>\n",
       "  </tbody>\n",
       "</table>\n",
       "</div>"
      ],
      "text/plain": [
       "  category                scientific_name conservation_status  endangered\n",
       "0   Mammal  Clethrionomys gapperi gapperi       Not in danger       False\n",
       "1   Mammal                      Bos bison       Not in danger       False\n",
       "2   Mammal                     Bos taurus       Not in danger       False\n",
       "3   Mammal                     Ovis aries       Not in danger       False\n",
       "4   Mammal                 Cervus elaphus       Not in danger       False"
      ]
     },
     "execution_count": 36,
     "metadata": {},
     "output_type": "execute_result"
    }
   ],
   "source": [
    "species_cstat['endangered'] = np.where(species_cstat['conservation_status'] != 'Not in danger', True, False)\n",
    "species_cstat.head()"
   ]
  },
  {
   "cell_type": "code",
   "execution_count": 37,
   "metadata": {},
   "outputs": [
    {
     "name": "stdout",
     "output_type": "stream",
     "text": [
      "endangered\n",
      "False    96.72046703296702%\n",
      "True     3.279532967032967%\n",
      "Name: proportion, dtype: object\n"
     ]
    }
   ],
   "source": [
    "percentages = species_cstat['endangered'].value_counts(normalize=True).mul(100).astype(str) + '%'\n",
    "print(percentages)"
   ]
  },
  {
   "cell_type": "markdown",
   "metadata": {},
   "source": [
    "There are 96,7% of not endangered species and 3,3% of species that are somehow endangered."
   ]
  },
  {
   "cell_type": "code",
   "execution_count": 38,
   "metadata": {},
   "outputs": [
    {
     "name": "stdout",
     "output_type": "stream",
     "text": [
      "conservation_status\n",
      "Not in danger         5633\n",
      "Species of Concern     161\n",
      "Endangered              16\n",
      "Threatened              10\n",
      "In Recovery              4\n",
      "Name: count, dtype: int64\n"
     ]
    }
   ],
   "source": [
    "print(species_cstat[\"conservation_status\"].value_counts())"
   ]
  },
  {
   "cell_type": "code",
   "execution_count": 39,
   "metadata": {},
   "outputs": [
    {
     "data": {
      "text/html": [
       "<div>\n",
       "<style scoped>\n",
       "    .dataframe tbody tr th:only-of-type {\n",
       "        vertical-align: middle;\n",
       "    }\n",
       "\n",
       "    .dataframe tbody tr th {\n",
       "        vertical-align: top;\n",
       "    }\n",
       "\n",
       "    .dataframe thead th {\n",
       "        text-align: right;\n",
       "    }\n",
       "</style>\n",
       "<table border=\"1\" class=\"dataframe\">\n",
       "  <thead>\n",
       "    <tr style=\"text-align: right;\">\n",
       "      <th></th>\n",
       "      <th>category</th>\n",
       "      <th>scientific_name</th>\n",
       "      <th>conservation_status</th>\n",
       "      <th>endangered</th>\n",
       "    </tr>\n",
       "  </thead>\n",
       "  <tbody>\n",
       "    <tr>\n",
       "      <th>count</th>\n",
       "      <td>5824</td>\n",
       "      <td>5824</td>\n",
       "      <td>5824</td>\n",
       "      <td>5824</td>\n",
       "    </tr>\n",
       "    <tr>\n",
       "      <th>unique</th>\n",
       "      <td>7</td>\n",
       "      <td>5541</td>\n",
       "      <td>2</td>\n",
       "      <td>2</td>\n",
       "    </tr>\n",
       "    <tr>\n",
       "      <th>top</th>\n",
       "      <td>Vascular Plant</td>\n",
       "      <td>Castor canadensis</td>\n",
       "      <td>Not in danger</td>\n",
       "      <td>False</td>\n",
       "    </tr>\n",
       "    <tr>\n",
       "      <th>freq</th>\n",
       "      <td>4470</td>\n",
       "      <td>3</td>\n",
       "      <td>5633</td>\n",
       "      <td>5633</td>\n",
       "    </tr>\n",
       "  </tbody>\n",
       "</table>\n",
       "</div>"
      ],
      "text/plain": [
       "              category    scientific_name conservation_status endangered\n",
       "count             5824               5824                5824       5824\n",
       "unique               7               5541                   2          2\n",
       "top     Vascular Plant  Castor canadensis       Not in danger      False\n",
       "freq              4470                  3                5633       5633"
      ]
     },
     "execution_count": 39,
     "metadata": {},
     "output_type": "execute_result"
    }
   ],
   "source": [
    "species_cstat[\"conservation_status\"] = np.where(species_cstat[\"conservation_status\"] == \"Not in danger\", \"Not in danger\", \"Endagered\")\n",
    "species_cstat.describe()"
   ]
  },
  {
   "cell_type": "code",
   "execution_count": 40,
   "metadata": {},
   "outputs": [
    {
     "data": {
      "text/html": [
       "<div>\n",
       "<style scoped>\n",
       "    .dataframe tbody tr th:only-of-type {\n",
       "        vertical-align: middle;\n",
       "    }\n",
       "\n",
       "    .dataframe tbody tr th {\n",
       "        vertical-align: top;\n",
       "    }\n",
       "\n",
       "    .dataframe thead th {\n",
       "        text-align: right;\n",
       "    }\n",
       "</style>\n",
       "<table border=\"1\" class=\"dataframe\">\n",
       "  <thead>\n",
       "    <tr style=\"text-align: right;\">\n",
       "      <th></th>\n",
       "      <th>conservation_status</th>\n",
       "      <th>count</th>\n",
       "    </tr>\n",
       "  </thead>\n",
       "  <tbody>\n",
       "    <tr>\n",
       "      <th>0</th>\n",
       "      <td>Not in danger</td>\n",
       "      <td>5633</td>\n",
       "    </tr>\n",
       "    <tr>\n",
       "      <th>1</th>\n",
       "      <td>Endagered</td>\n",
       "      <td>191</td>\n",
       "    </tr>\n",
       "  </tbody>\n",
       "</table>\n",
       "</div>"
      ],
      "text/plain": [
       "  conservation_status  count\n",
       "0       Not in danger   5633\n",
       "1           Endagered    191"
      ]
     },
     "execution_count": 40,
     "metadata": {},
     "output_type": "execute_result"
    }
   ],
   "source": [
    "endangered_notendangered = species_cstat[\"conservation_status\"].value_counts().reset_index()\n",
    "endangered_notendangered.head()"
   ]
  },
  {
   "cell_type": "code",
   "execution_count": 100,
   "metadata": {},
   "outputs": [
    {
     "data": {
      "image/png": "[encoded data removed]",
      "text/plain": [
       "<Figure size 1000x500 with 1 Axes>"
      ]
     },
     "metadata": {},
     "output_type": "display_data"
    },
    {
     "data": {
      "text/plain": [
       "<Figure size 640x480 with 0 Axes>"
      ]
     },
     "metadata": {},
     "output_type": "display_data"
    }
   ],
   "source": [
    "plt.figure(figsize=(10,5))\n",
    "\n",
    "ax = plt.subplot()\n",
    "plt.bar(endangered_notendangered[\"conservation_status\"], endangered_notendangered[\"count\"], color=colors, width=0.35)\n",
    "\n",
    "ax.set(title='Endangered status', xlabel='', ylabel='Number of species')\n",
    "plt.xticks(ha=\"center\")\n",
    "\n",
    "ax.annotate(text='96.7%', xy=(-0.035, 5655))\n",
    "ax.annotate(text='3,30%', xy=(0.95, 215))\n",
    "\n",
    "ax.spines['top'].set_visible(False)\n",
    "ax.spines['right'].set_visible(False)\n",
    "\n",
    "plt.show()\n",
    "plt.clf()"
   ]
  },
  {
   "cell_type": "code",
   "execution_count": 42,
   "metadata": {},
   "outputs": [
    {
     "data": {
      "text/html": [
       "<div>\n",
       "<style scoped>\n",
       "    .dataframe tbody tr th:only-of-type {\n",
       "        vertical-align: middle;\n",
       "    }\n",
       "\n",
       "    .dataframe tbody tr th {\n",
       "        vertical-align: top;\n",
       "    }\n",
       "\n",
       "    .dataframe thead th {\n",
       "        text-align: right;\n",
       "    }\n",
       "</style>\n",
       "<table border=\"1\" class=\"dataframe\">\n",
       "  <thead>\n",
       "    <tr style=\"text-align: right;\">\n",
       "      <th></th>\n",
       "      <th>category</th>\n",
       "      <th>scientific_name</th>\n",
       "      <th>conservation_status</th>\n",
       "    </tr>\n",
       "  </thead>\n",
       "  <tbody>\n",
       "    <tr>\n",
       "      <th>0</th>\n",
       "      <td>Mammal</td>\n",
       "      <td>Canis latrans</td>\n",
       "      <td>Species of Concern</td>\n",
       "    </tr>\n",
       "    <tr>\n",
       "      <th>1</th>\n",
       "      <td>Mammal</td>\n",
       "      <td>Canis lupus</td>\n",
       "      <td>Endangered</td>\n",
       "    </tr>\n",
       "    <tr>\n",
       "      <th>2</th>\n",
       "      <td>Mammal</td>\n",
       "      <td>Canis rufus</td>\n",
       "      <td>Endangered</td>\n",
       "    </tr>\n",
       "    <tr>\n",
       "      <th>3</th>\n",
       "      <td>Mammal</td>\n",
       "      <td>Eptesicus fuscus</td>\n",
       "      <td>Species of Concern</td>\n",
       "    </tr>\n",
       "    <tr>\n",
       "      <th>4</th>\n",
       "      <td>Mammal</td>\n",
       "      <td>Lasionycteris noctivagans</td>\n",
       "      <td>Species of Concern</td>\n",
       "    </tr>\n",
       "  </tbody>\n",
       "</table>\n",
       "</div>"
      ],
      "text/plain": [
       "  category            scientific_name conservation_status\n",
       "0   Mammal              Canis latrans  Species of Concern\n",
       "1   Mammal                Canis lupus          Endangered\n",
       "2   Mammal                Canis rufus          Endangered\n",
       "3   Mammal           Eptesicus fuscus  Species of Concern\n",
       "4   Mammal  Lasionycteris noctivagans  Species of Concern"
      ]
     },
     "execution_count": 42,
     "metadata": {},
     "output_type": "execute_result"
    }
   ],
   "source": [
    "endangered_species = species[~species[\"conservation_status\"].isin([\"Not in danger\"])].reset_index()\n",
    "endangered_species = endangered_species.drop(['index'], axis=1)\n",
    "endangered_species.head()"
   ]
  },
  {
   "cell_type": "code",
   "execution_count": 43,
   "metadata": {},
   "outputs": [
    {
     "name": "stdout",
     "output_type": "stream",
     "text": [
      "conservation_status\n",
      "Species of Concern     84.29319371727748%\n",
      "Endangered              8.37696335078534%\n",
      "Threatened            5.2356020942408374%\n",
      "In Recovery            2.094240837696335%\n",
      "Name: proportion, dtype: object\n"
     ]
    }
   ],
   "source": [
    "percentages_endangered = endangered_species['conservation_status'].value_counts(normalize=True).mul(100).astype(str) + '%'\n",
    "print(percentages_endangered)"
   ]
  },
  {
   "cell_type": "markdown",
   "metadata": {},
   "source": [
    "There are:\n",
    "- 84,3% of endangered species that are \"Species of concern\"\n",
    "- 8,4% of species that are \"Endangered\"\n",
    "- 5,2 % \"Threatened\"\n",
    "- 2,1% of endangered species \"In Recovery\"."
   ]
  },
  {
   "cell_type": "code",
   "execution_count": 44,
   "metadata": {},
   "outputs": [],
   "source": [
    "# We are going to make a copy to use in later analysis\n",
    "endangered_spec_cat = endangered_species.copy()"
   ]
  },
  {
   "cell_type": "code",
   "execution_count": 45,
   "metadata": {},
   "outputs": [
    {
     "data": {
      "text/html": [
       "<div>\n",
       "<style scoped>\n",
       "    .dataframe tbody tr th:only-of-type {\n",
       "        vertical-align: middle;\n",
       "    }\n",
       "\n",
       "    .dataframe tbody tr th {\n",
       "        vertical-align: top;\n",
       "    }\n",
       "\n",
       "    .dataframe thead th {\n",
       "        text-align: right;\n",
       "    }\n",
       "</style>\n",
       "<table border=\"1\" class=\"dataframe\">\n",
       "  <thead>\n",
       "    <tr style=\"text-align: right;\">\n",
       "      <th></th>\n",
       "      <th>conservation_status</th>\n",
       "      <th>count</th>\n",
       "    </tr>\n",
       "  </thead>\n",
       "  <tbody>\n",
       "    <tr>\n",
       "      <th>0</th>\n",
       "      <td>Species of Concern</td>\n",
       "      <td>161</td>\n",
       "    </tr>\n",
       "    <tr>\n",
       "      <th>1</th>\n",
       "      <td>Endangered</td>\n",
       "      <td>16</td>\n",
       "    </tr>\n",
       "    <tr>\n",
       "      <th>2</th>\n",
       "      <td>Threatened</td>\n",
       "      <td>10</td>\n",
       "    </tr>\n",
       "    <tr>\n",
       "      <th>3</th>\n",
       "      <td>In Recovery</td>\n",
       "      <td>4</td>\n",
       "    </tr>\n",
       "  </tbody>\n",
       "</table>\n",
       "</div>"
      ],
      "text/plain": [
       "  conservation_status  count\n",
       "0  Species of Concern    161\n",
       "1          Endangered     16\n",
       "2          Threatened     10\n",
       "3         In Recovery      4"
      ]
     },
     "execution_count": 45,
     "metadata": {},
     "output_type": "execute_result"
    }
   ],
   "source": [
    "endangered_species = endangered_species[\"conservation_status\"].value_counts().reset_index()\n",
    "endangered_species.head()"
   ]
  },
  {
   "cell_type": "code",
   "execution_count": 102,
   "metadata": {},
   "outputs": [
    {
     "data": {
      "image/png": "[encoded data removed]",
      "text/plain": [
       "<Figure size 1000x500 with 1 Axes>"
      ]
     },
     "metadata": {},
     "output_type": "display_data"
    },
    {
     "data": {
      "text/plain": [
       "<Figure size 640x480 with 0 Axes>"
      ]
     },
     "metadata": {},
     "output_type": "display_data"
    }
   ],
   "source": [
    "plt.figure(figsize=(10,5))\n",
    "\n",
    "ax = plt.subplot()\n",
    "plt.bar(endangered_species[\"conservation_status\"], endangered_species[\"count\"], color=colors, width=0.35)\n",
    "\n",
    "ax.set(title='Endangered species', xlabel='', ylabel='Number of species')\n",
    "plt.xticks(ha=\"center\")\n",
    "\n",
    "ax.annotate(text='84.3%', xy=(-0.081, 163))\n",
    "ax.annotate(text='8,40%', xy=(0.92, 18))\n",
    "ax.annotate(text='5.20%', xy=(1.92, 12))\n",
    "ax.annotate(text='2.10%', xy=(2.92, 6))\n",
    "\n",
    "ax.spines['top'].set_visible(False)\n",
    "ax.spines['right'].set_visible(False)\n",
    "\n",
    "plt.show()\n",
    "plt.clf()"
   ]
  },
  {
   "cell_type": "code",
   "execution_count": 47,
   "metadata": {},
   "outputs": [
    {
     "name": "stdout",
     "output_type": "stream",
     "text": [
      "category\n",
      "Bird                 41.361256544502616%\n",
      "Vascular Plant       24.083769633507853%\n",
      "Mammal               19.895287958115183%\n",
      "Fish                 5.7591623036649215%\n",
      "Amphibian             3.664921465968586%\n",
      "Reptile              2.6178010471204187%\n",
      "Nonvascular Plant    2.6178010471204187%\n",
      "Name: proportion, dtype: object\n"
     ]
    }
   ],
   "source": [
    "percentages_endangered_spec_cat = endangered_spec_cat['category'].value_counts(normalize=True).mul(100).astype(str) + '%'\n",
    "print(percentages_endangered_spec_cat)"
   ]
  },
  {
   "cell_type": "markdown",
   "metadata": {},
   "source": [
    "We can see that there are:\n",
    "- 41,4% of endangered species are \"Birds\"\n",
    "- 24,1% of endangered species are \"Vascular plants\"\n",
    "- 19,9% of endangered species are \"Mammals\"\n",
    "- 5,76% of endangered species are \"Fishes\"\n",
    "- 3,66% of endangered species are \"Amphibians\"\n",
    "- 2,62% of endangered species are \"Reptiles\"\n",
    "- 2,62% of endangered species are \"Nonvascular plants\""
   ]
  },
  {
   "cell_type": "code",
   "execution_count": 48,
   "metadata": {},
   "outputs": [
    {
     "data": {
      "text/html": [
       "<div>\n",
       "<style scoped>\n",
       "    .dataframe tbody tr th:only-of-type {\n",
       "        vertical-align: middle;\n",
       "    }\n",
       "\n",
       "    .dataframe tbody tr th {\n",
       "        vertical-align: top;\n",
       "    }\n",
       "\n",
       "    .dataframe thead th {\n",
       "        text-align: right;\n",
       "    }\n",
       "</style>\n",
       "<table border=\"1\" class=\"dataframe\">\n",
       "  <thead>\n",
       "    <tr style=\"text-align: right;\">\n",
       "      <th></th>\n",
       "      <th>category</th>\n",
       "      <th>count</th>\n",
       "    </tr>\n",
       "  </thead>\n",
       "  <tbody>\n",
       "    <tr>\n",
       "      <th>0</th>\n",
       "      <td>Bird</td>\n",
       "      <td>79</td>\n",
       "    </tr>\n",
       "    <tr>\n",
       "      <th>1</th>\n",
       "      <td>Vascular Plant</td>\n",
       "      <td>46</td>\n",
       "    </tr>\n",
       "    <tr>\n",
       "      <th>2</th>\n",
       "      <td>Mammal</td>\n",
       "      <td>38</td>\n",
       "    </tr>\n",
       "    <tr>\n",
       "      <th>3</th>\n",
       "      <td>Fish</td>\n",
       "      <td>11</td>\n",
       "    </tr>\n",
       "    <tr>\n",
       "      <th>4</th>\n",
       "      <td>Amphibian</td>\n",
       "      <td>7</td>\n",
       "    </tr>\n",
       "  </tbody>\n",
       "</table>\n",
       "</div>"
      ],
      "text/plain": [
       "         category  count\n",
       "0            Bird     79\n",
       "1  Vascular Plant     46\n",
       "2          Mammal     38\n",
       "3            Fish     11\n",
       "4       Amphibian      7"
      ]
     },
     "execution_count": 48,
     "metadata": {},
     "output_type": "execute_result"
    }
   ],
   "source": [
    "endangered_spec_cat = endangered_spec_cat[\"category\"].value_counts().reset_index()\n",
    "endangered_spec_cat.head()"
   ]
  },
  {
   "cell_type": "code",
   "execution_count": 104,
   "metadata": {},
   "outputs": [
    {
     "data": {
      "image/png": "[encoded data removed]",
      "text/plain": [
       "<Figure size 1000x500 with 1 Axes>"
      ]
     },
     "metadata": {},
     "output_type": "display_data"
    },
    {
     "data": {
      "text/plain": [
       "<Figure size 640x480 with 0 Axes>"
      ]
     },
     "metadata": {},
     "output_type": "display_data"
    }
   ],
   "source": [
    "plt.figure(figsize=(10,5))\n",
    "\n",
    "ax = plt.subplot()\n",
    "plt.bar(endangered_spec_cat[\"category\"], endangered_spec_cat[\"count\"], color=colors, width=0.35)\n",
    "\n",
    "ax.set(title='Endangered species by category', xlabel='', ylabel='# of species')\n",
    "plt.xticks(ha=\"center\")\n",
    "\n",
    "ax.annotate(text='41.4%', xy=(-0.18, 80))\n",
    "ax.annotate(text='24.0%', xy=(0.8, 47))\n",
    "ax.annotate(text='19.9%', xy=(1.8, 39))\n",
    "ax.annotate(text='5.76%', xy=(2.8, 12))\n",
    "ax.annotate(text='3.66%', xy=(3.8, 8))\n",
    "ax.annotate(text='2.62%', xy=(4.8, 6))\n",
    "ax.annotate(text='2.62%', xy=(5.8, 6))\n",
    "\n",
    "ax.spines['top'].set_visible(False)\n",
    "ax.spines['right'].set_visible(False)\n",
    "\n",
    "plt.show()\n",
    "plt.clf()"
   ]
  },
  {
   "cell_type": "markdown",
   "metadata": {},
   "source": [
    "## 4. Conclusion"
   ]
  },
  {
   "cell_type": "markdown",
   "metadata": {},
   "source": [
    "We can see that there is only a portion of the observed species that are somehow endangered - just above 3% of all observed species. Almost half of the endangered species are birds (41%), following by vascular plants and mammals (24% and 19,9%).  \n",
    "Most of the endangered species are \"Species of concern\" (more than 84%). More than 8% of endangered species are \"Endangered\".  \n",
    "We can see that there is large gap between number of observed species in parks. This could be the reason for not allocating the observations equally or just the indication of the park size, Yellowstone being the largest."
   ]
  }
 ],
 "metadata": {
  "kernelspec": {
   "display_name": "Python 3",
   "language": "python",
   "name": "python3"
  },
  "language_info": {
   "codemirror_mode": {
    "name": "ipython",
    "version": 3
   },
   "file_extension": ".py",
   "mimetype": "text/x-python",
   "name": "python",
   "nbconvert_exporter": "python",
   "pygments_lexer": "ipython3",
   "version": "3.11.4"
  }
 },
 "nbformat": 4,
 "nbformat_minor": 4
}
